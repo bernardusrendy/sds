{
 "cells": [
  {
   "cell_type": "markdown",
   "metadata": {},
   "source": [
    "#### Xl Juleoriansyah Nksrsb / 13317005\n",
    "#### Muhamad Asa Nurrizqita Adhiem / 13317018\n",
    "#### Oktoni Nur Pambudi / 13317022\n",
    "#### Bernardus Rendy / 13317041\n",
    "\n",
    "# Definisi Masalah\n",
    "#### Dalam tangki dengan luas permukaan A, luas luaran a, dalam percepatan gravitasi g [Parameter A,a,g]\n",
    "#### Diisi dengan flow fluida Vin (asumsi fluida incompressible) sehingga terdapat ketinggian h [Variabel Input Vin dan output h]\n",
    "#### Akan memiliki luaran $V_{out}$ dengan \n",
    "$V_{out} = a \\sqrt{2gh} $ \n",
    "#### Sehingga akan didapat hubungan persamaan diferensial non-linear\n",
    "$ \\frac {dh}{dt} = \\frac {V_{in}}{A} - \\frac {a}{A}\\sqrt{2gh}$\n",
    "<img src=\"./dinsis_nonlinear.png\" style=\"width:50%;\">\n",
    "\n",
    "#### Sumber Gambar: Slide Kuliah Dinamika Sistem dan Simulasi (Eko M. Budi & Estiyanti Ekawati) System Modeling: Fluidic Systems"
   ]
  },
  {
   "cell_type": "code",
   "execution_count": 1,
   "metadata": {},
   "outputs": [],
   "source": [
    "import numpy as np\n",
    "from scipy.integrate import odeint\n",
    "import matplotlib.pyplot as plt"
   ]
  },
  {
   "cell_type": "code",
   "execution_count": 2,
   "metadata": {},
   "outputs": [],
   "source": [
    "def dhdt_non(h,t,Vin,A,a,g):\n",
    "    return (Vin/A)-(a/A)*np.sqrt(2*g*h)"
   ]
  },
  {
   "cell_type": "code",
   "execution_count": 3,
   "metadata": {},
   "outputs": [
    {
     "data": {
      "image/png": "[encoded data removed]",
      "text/plain": [
       "<Figure size 432x288 with 1 Axes>"
      ]
     },
     "metadata": {
      "needs_background": "light"
     },
     "output_type": "display_data"
    }
   ],
   "source": [
    "# initial condition\n",
    "h0 = 0\n",
    "\n",
    "# Parameter\n",
    "A = 1\n",
    "g = 9.8\n",
    "Vin =100\n",
    "a = 1\n",
    "\n",
    "# time points\n",
    "t = np.linspace(0,100)\n",
    "\n",
    "# solve ODEs\n",
    "hnon = odeint(dhdt_non,h0,t,args=(Vin,A,a,g))\n",
    "\n",
    "# plot results\n",
    "plt.plot(t,hnon,'r-',linewidth=2,label='h_non_linear')\n",
    "plt.xlabel('time')\n",
    "plt.ylabel('h(t)')\n",
    "plt.legend()\n",
    "plt.show()"
   ]
  },
  {
   "cell_type": "markdown",
   "metadata": {},
   "source": [
    "# Alternatif Penyelesaian: Linearisasi\n",
    "#### Dalam sebuah persamaan diferensial non-linear, sulit ditentukan fungsi transfer (karena h dalam akar sehingga tidak dapat dikeluarkan dengan mudah) dan penyelesaian analitik tanpa menggunakan numerik sehingga dibentuk suatu metode bernama linearisasi. Linearisasi juga mengimplikasi operasi matematika yang jauh lebih mudah\n",
    "#### Linearisasi menggunakan ekspansi taylor orde 1 untuk mengubah persamaan diferensial $ \\frac {dh(t)}{dt} = \\frac {q_i(t)}{A} - \\frac {a}{A}\\sqrt{2gh(t)}$ menjadi linear\n",
    "<img src=\"./dinsis_linear1.png\" style=\"width:50%\">\n",
    "\n",
    "#### Sumber Gambar: Slide Kuliah Dinamika Sistem dan Simulasi (Eko M. Budi & Estiyanti Ekawati) System Modeling: Fluidic Systems"
   ]
  },
  {
   "cell_type": "markdown",
   "metadata": {},
   "source": [
    "#### Menghasilkan (dengan catatan qi adalah Vin)\n",
    "# $ \\frac {dh}{dt} - \\frac {d\\bar h}{dt} = \\frac {V_{in}- \\bar {V_{in}}}{A} - (\\frac {a \\sqrt {2g}}{2A \\sqrt {\\bar h}})(h - \\bar h) $"
   ]
  },
  {
   "cell_type": "markdown",
   "metadata": {},
   "source": [
    "#### Setelah linearisasi, dihasilkan persamaan diferensial linear yang dapat beroperasi dekat $ \\bar h $"
   ]
  },
  {
   "cell_type": "markdown",
   "metadata": {},
   "source": [
    "#### Secara sederhana, ditulis \n",
    "# $ \\frac {d\\hat h}{dt} = \\frac {\\hat {V_{in}}}{A} - \\frac{\\hat h}{R} $"
   ]
  },
  {
   "cell_type": "markdown",
   "metadata": {},
   "source": [
    "#### Dimana \n",
    "### $ \\hat h = h-\\bar h $\n",
    "### $ \\hat {V_{in}} = V_{in} - \\bar {V_{in}} $\n",
    "### $ R=\\frac {A \\sqrt {2 \\bar {h}}}{a \\sqrt{g}} $"
   ]
  },
  {
   "cell_type": "markdown",
   "metadata": {},
   "source": [
    "#### Sehingga harus dipilih kondisi dimana $ \\bar h $ sesuai untuk daerah operasi persamaan\n",
    "#### Terlihat bahwa persamaan digunakan pada 0 hingga steady state, saat steady state\n",
    "# $ \\frac {dh}{dt} = 0 $\n",
    "#### Berdasarkan persamaan\n",
    "# $ \\frac {dh}{dt} = \\frac {V_{in}}{A} - \\frac {a}{A}\\sqrt{2gh}$\n",
    "# $ 0 = V_{in} - a \\sqrt{2g\\bar {h}} $\n",
    "# $ \\bar {h} = \\frac {V_{in}^2}{2ga^2} $\n",
    "#### Juga harus dipilih kondisi dimana $ \\bar V_{in} $ sesuai untuk daerah operasi persamaan\n",
    "#### Terlihat bahwa jika input merupakan fungsi step, \n",
    "# $ \\bar V_{in} = V_{in} $\n",
    "#### Karena $ V_{in} $ konstan, maka pada kondisi akhir dimana $ \\bar V_{in} $ beroperasi, juga tetap sama dengan $ V_{in} $"
   ]
  },
  {
   "cell_type": "markdown",
   "metadata": {},
   "source": [
    "#### Menggunakan persamaan yang sebelumnya telah diturunkan\n",
    "# $ \\frac {d\\hat h}{dt} = \\frac {\\hat {V_{in}}}{A} - \\frac{\\hat h}{R} $\n",
    "#### Dimana \n",
    "### $ \\hat h = h-\\bar h $\n",
    "### $ \\hat {V_{in}} = V_{in} - \\bar {V_{in}} $\n",
    "### $ R=\\frac {A \\sqrt {2 \\bar {h}}}{a \\sqrt{g}} $"
   ]
  },
  {
   "cell_type": "code",
   "execution_count": 4,
   "metadata": {},
   "outputs": [],
   "source": [
    "def dhhatdt_lin(hhat,t,Vinhat,A,a,g,R):\n",
    "    return (Vinhat/A)-(hhat/R)"
   ]
  },
  {
   "cell_type": "code",
   "execution_count": 5,
   "metadata": {
    "scrolled": true
   },
   "outputs": [
    {
     "data": {
      "image/png": "[encoded data removed]",
      "text/plain": [
       "<Figure size 432x288 with 1 Axes>"
      ]
     },
     "metadata": {
      "needs_background": "light"
     },
     "output_type": "display_data"
    }
   ],
   "source": [
    "# Initial condition\n",
    "h0 = 0\n",
    "\n",
    "# Input\n",
    "Vin=100\n",
    "\n",
    "# Parameter\n",
    "A = 1\n",
    "g = 9.8\n",
    "a = 1\n",
    "hbar = Vin**2/(2*g*a**2)\n",
    "R=(A*np.sqrt(2*hbar))/(a*np.sqrt(g))\n",
    "hhat0 = h0-hbar \n",
    "Vinbar= Vin\n",
    "Vinhat= Vin-Vinbar\n",
    "\n",
    "# time points\n",
    "t = np.linspace(0,100)\n",
    "\n",
    "# solve ODEs, karena hasil ODE yang didapat adalah untuk hhat, maka harus dilakukan penambahan hbar karena h = hhat+hbar\n",
    "hlin = odeint(dhhatdt_lin,hhat0,t,args=(Vinhat,A,a,g,R))\n",
    "hlin = hlin+hbar\n",
    "# plot results\n",
    "plt.plot(t,hlin,'b-',linewidth=2,label='h_linear')\n",
    "plt.xlabel('time')\n",
    "plt.ylabel('h(t)')\n",
    "plt.legend()\n",
    "plt.show()"
   ]
  },
  {
   "cell_type": "markdown",
   "metadata": {},
   "source": [
    "# Perbandingan Non-linear dan Linearisasi"
   ]
  },
  {
   "cell_type": "code",
   "execution_count": 6,
   "metadata": {
    "scrolled": true
   },
   "outputs": [
    {
     "data": {
      "image/png": "[encoded data removed]",
      "text/plain": [
       "<Figure size 432x288 with 1 Axes>"
      ]
     },
     "metadata": {
      "needs_background": "light"
     },
     "output_type": "display_data"
    }
   ],
   "source": [
    "plt.plot(t,hnon,'r-',linewidth=2,label='h_non_linear')\n",
    "plt.plot(t,hlin,'b-',linewidth=2,label='h_linear')\n",
    "plt.xlabel('time')\n",
    "plt.ylabel('h(t)')\n",
    "plt.legend()\n",
    "plt.show()"
   ]
  },
  {
   "cell_type": "markdown",
   "metadata": {},
   "source": [
    "#### Terlihat perbedaan respon sistem ketika dilakukan aproksimasi linearisasi terhadap dhdt\n",
    "#### Walaupun terjadi perbedaan, perbedaan tersebut kurang signifikan pada sistem ini dengan Sum Squared Error sebesar:"
   ]
  },
  {
   "cell_type": "code",
   "execution_count": 7,
   "metadata": {},
   "outputs": [],
   "source": [
    "err=hnon-hlin"
   ]
  },
  {
   "cell_type": "code",
   "execution_count": 8,
   "metadata": {
    "scrolled": true
   },
   "outputs": [],
   "source": [
    "err=err*err"
   ]
  },
  {
   "cell_type": "code",
   "execution_count": 9,
   "metadata": {},
   "outputs": [
    {
     "data": {
      "text/plain": [
       "array([13217.29354308])"
      ]
     },
     "execution_count": 9,
     "metadata": {},
     "output_type": "execute_result"
    }
   ],
   "source": [
    "sum(err)"
   ]
  },
  {
   "cell_type": "markdown",
   "metadata": {},
   "source": [
    "# Interface Parameter "
   ]
  },
  {
   "cell_type": "code",
   "execution_count": 10,
   "metadata": {
    "scrolled": true
   },
   "outputs": [],
   "source": [
    "from ipywidgets import interact,fixed,widgets\n",
    "import numpy as np\n",
    "from scipy.integrate import odeint\n",
    "import matplotlib.pyplot as plt\n",
    "from ipywidgets import interact,fixed,widgets,Button,Layout\n",
    "\n",
    "def dhhatdt_lin(hhat,t,Vinhat,A,a,g,R):\n",
    "    return (Vinhat/A)-(hhat/R)\n",
    "def dhdt_non(h,t,Vin,A,a,g):\n",
    "    return (Vin/A)-(a/A)*np.sqrt(2*g*h)\n",
    "g = 9.8\n",
    "\n",
    "range_A = widgets.FloatSlider(\n",
    "    value=2.,\n",
    "    min=1.,\n",
    "    max=10.0,\n",
    "    step=0.1,\n",
    "    description='Luas Alas Tangki ($dm^2$):',\n",
    "    layout=Layout(width='80%', height='50px'),\n",
    "    style={'description_width': '200px'},\n",
    "    readout_format='.1f',\n",
    ")\n",
    "\n",
    "range_a = widgets.FloatSlider(\n",
    "    value=2.,\n",
    "    min=0.1, max=+3., step=0.1,\n",
    "    description='Luas Pipa ($dm^2$) :',\n",
    "    layout=Layout(width='80%', height='50px'),\n",
    "    style={'description_width': '200px'},\n",
    "    readout_format='.1f',\n",
    ")\n",
    "\n",
    "range_Vin = widgets.FloatSlider(\n",
    "    value= 2.,\n",
    "    min=0.1,\n",
    "    max=100.0,\n",
    "    step=0.1,\n",
    "    description='Debit Fluida Masuk ($dm^2 / s$)',\n",
    "    layout=Layout(width='80%', height='50px'),\n",
    "    style={'description_width': '200px'},\n",
    "    readout_format='.1f',\n",
    ")\n",
    "\n",
    "range_h0 = widgets.FloatSlider(\n",
    "    value= 2.,\n",
    "    min=0.,\n",
    "    max=500.0,\n",
    "    step=0.1,\n",
    "    description='Ketinggian Mula-Mula ($dm$):',\n",
    "    layout=Layout(width='80%', height='50px'),\n",
    "    style={'description_width': '200px'},\n",
    "    readout_format='.1f',\n",
    ")\n",
    "\n",
    "range_amplitude = widgets.FloatSlider(\n",
    "    value= 2.,\n",
    "    min=0.,\n",
    "    max=100.0,\n",
    "    step=0.1,\n",
    "    description='Amplituda Gangguan Sinusoidal:',\n",
    "    layout=Layout(width='80%', height='50px'),\n",
    "    style={'description_width': '200px'},\n",
    "    readout_format='.1f',\n",
    ")\n",
    "\n",
    "time_slider = widgets.IntSlider(\n",
    "    min=100, max=1000, step=1, value=100,\n",
    "    description='Waktu Maksimum ($s$):',\n",
    "    layout=Layout(width='80%', height='50px'),\n",
    "    style={'description_width': '200px'},\n",
    "    readout_format='.1f',\n",
    ")\n",
    "\n",
    "max_err_button = widgets.Button(\n",
    "    description='Error Maksimum',\n",
    ")\n",
    "\n",
    "max_err_sin_button = widgets.Button(\n",
    "    description='Error Maksimum Sinusoidal',\n",
    ")\n",
    "\n",
    "min_err_button = widgets.Button(\n",
    "    description='Error Minimum',\n",
    ")\n",
    "\n",
    "tab1 = widgets.VBox(children=[range_A,range_a,range_Vin,range_h0,time_slider,max_err_button,min_err_button])\n",
    "tab2 = widgets.VBox(children=[range_A,range_a,range_Vin,range_h0,range_amplitude,time_slider,max_err_sin_button,min_err_button])\n",
    "tab = widgets.Tab(children=[tab1, tab2])\n",
    "tab.set_title(0, 'Step')\n",
    "tab.set_title(1, 'GangguanSinusoidal')\n",
    "\n",
    "A = range_A.value\n",
    "a = range_a.value\n",
    "Vin = range_Vin.value\n",
    "h0 = range_h0.value \n",
    "tmax = time_slider.value\n",
    "amp = range_amplitude.value\n",
    "\n",
    "#Max error untuk step\n",
    "def max_err_set(b=None):\n",
    "    range_A.value=10.0\n",
    "    range_a.value=0.1\n",
    "    range_Vin.value=100\n",
    "    range_h0.value=0\n",
    "    time_slider.value=1000\n",
    "\n",
    "@max_err_button.on_click\n",
    "def maximum_err_set(b):\n",
    "    max_err_set()\n",
    "    \n",
    "#Max error untuk sinusoidal    \n",
    "def max_err_sin_set(b=None):\n",
    "    range_A.value=10.0\n",
    "    range_a.value=2.9\n",
    "    range_Vin.value=100\n",
    "    range_h0.value=0\n",
    "    time_slider.value=150\n",
    "    range_amplitude.value=100\n",
    "\n",
    "@max_err_sin_button.on_click\n",
    "def maximum_err_sin_set(b):\n",
    "    max_err_sin_set()\n",
    "\n",
    "#Min error untuk step dan sinusoidal\n",
    "def min_err_set(b=None):\n",
    "    range_A.value=1.0\n",
    "    range_a.value=2.9\n",
    "    range_Vin.value=100\n",
    "    range_h0.value=50\n",
    "    time_slider.value=100\n",
    "    range_amplitude.value=0\n",
    "\n",
    "@min_err_button.on_click\n",
    "def minimum_err_set(b):\n",
    "    min_err_set()\n",
    "\n",
    "def plot3(A,a,Vin,h0,amp,tmax):\n",
    "    t = np.linspace(50,tmax,1000)\n",
    "    f, ax = plt.subplots(1, 1, figsize=(8, 6))\n",
    "    if tab.selected_index == 1 :\n",
    "        def dhdt_non_sin(h,t,Vin,A,a,g,amp):\n",
    "            return ((Vin+abs(amp*np.sin(np.pi*t)))/A)-(a/A)*np.sqrt(2*g*h)\n",
    "        def dhhatdt_lin_sin(hhat,t,Vin,A,a,g,amp):\n",
    "            V=Vin+abs(amp*np.sin(np.pi*t))\n",
    "            R=(A*np.sqrt(2*hbar))/(a*np.sqrt(g))\n",
    "            Vinbar=Vin\n",
    "            Vinhat=V-Vinbar\n",
    "            return ((Vinhat/A)-(hhat/R))\n",
    "        hbar = Vin**2/(2*g*a**2)\n",
    "        hhat0 = h0-hbar\n",
    "        hlin = odeint(dhhatdt_lin_sin,hhat0,t,args=(Vin,A,a,g,amp))\n",
    "        hlin = hlin+hbar\n",
    "        hnon = odeint(dhdt_non_sin,h0,t,args=(Vin,A,a,g,amp))\n",
    "        ax.plot(t, hlin , color = 'blue', label ='linier')\n",
    "        ax.plot(t, hnon , color = 'red', label ='non-linier')\n",
    "        ax.title.set_text('Input Step dengan Gangguan Sinusoidal')\n",
    "        ax.legend()\n",
    "        \n",
    "    if tab.selected_index == 0 :\n",
    "        hbar = Vin**2/(2*g*a**2)\n",
    "        R=(A*np.sqrt(2*hbar))/(a*np.sqrt(g))\n",
    "        hhat0 = h0-hbar \n",
    "        Vinbar= Vin\n",
    "        Vinhat= Vin-Vinbar\n",
    "        hlin = odeint(dhhatdt_lin,hhat0,t,args=(Vinhat,A,a,g,R))\n",
    "        hlin = hlin+hbar\n",
    "        hnon = odeint(dhdt_non,h0,t,args=(Vin,A,a,g))\n",
    "        ax.plot(t, hlin , color = 'blue' , label ='linier')\n",
    "        ax.plot(t, hnon , color = 'red', label='non-linier')\n",
    "        ax.title.set_text('Input Step')\n",
    "        ax.legend()"
   ]
  },
  {
   "cell_type": "code",
   "execution_count": 11,
   "metadata": {
    "scrolled": true
   },
   "outputs": [],
   "source": [
    "ui = tab\n",
    "out = widgets.interactive_output(plot3,{'A':range_A,'a':range_a,'Vin':range_Vin,'h0':range_h0,'amp':range_amplitude,'tmax':time_slider})"
   ]
  },
  {
   "cell_type": "code",
   "execution_count": 12,
   "metadata": {
    "scrolled": false
   },
   "outputs": [
    {
     "data": {
      "application/vnd.jupyter.widget-view+json": {
       "model_id": "1944769bcef644d4948bf8fc69e4a245",
       "version_major": 2,
       "version_minor": 0
      },
      "text/plain": [
       "Tab(children=(VBox(children=(FloatSlider(value=2.0, description='Luas Alas Tangki ($dm^2$):', layout=Layout(he…"
      ]
     },
     "metadata": {},
     "output_type": "display_data"
    },
    {
     "data": {
      "application/vnd.jupyter.widget-view+json": {
       "model_id": "fad659ed5d22439ea70a2a4ea35f2585",
       "version_major": 2,
       "version_minor": 0
      },
      "text/plain": [
       "Output()"
      ]
     },
     "metadata": {},
     "output_type": "display_data"
    }
   ],
   "source": [
    "display(ui,out)"
   ]
  },
  {
   "cell_type": "markdown",
   "metadata": {},
   "source": [
    "# Pembahasan\n",
    "Dari grafik di atas: kurva biru (linear) dan merah (non linear), dapat dilihat bahwa kurva merah dan biru tersebut terkadang sama atau hampir berhimpit yang berarti error antara linear dan non-linear kecil, namun terkadang juga tidak berhimpit dan error antara linear dan non-linear menjadi besar. Dapat digunakan interaksi untuk meninjau efek perubahan parameter terhadap model respon sistem yang dibentuk dengan persamaan non-linear dan linear. Untuk dapat melihat perbedaan respon persamaan linar dan persamaan nonlinear serta menentukan keterbatasan persamaan hasil linearisasi, kita akan membuat error tersebut agar menjadi besar. Untuk error maksimum atau minimum dapat digunakan tombol \"error maksimum\" dan \"error minimum\". Adapun cara yang dilakukan adalah: \n",
    "\n",
    "#### 1) Memperkecil ketinggian awal (h0) dari fluida di tabung, sehingga rentang h0 dan hfinal semakin besar\n",
    "Hal ini akan menyebabkan h dan hbar memiliki perbedaan nilai yang besar saat proses transien. Ketika rentang h0 dan hfinal membesar, pada saat respon belum steady, h dan hbar akan semakin menjauh karena nilai hbar yang diambil adalah saat keadaan steady.\n",
    "\n",
    "#### 2) Meningkatkan luas alas tabung (A)\n",
    "\n",
    "Untuk nilai A, semakin besar A, maka akan semakin lama keadaan steady tercapai. Maka semakin lama proses h menuju hbar pada steady state, sehingga error semakin besar.\n",
    "\n",
    "#### 3) Mengecilkan luas pipa luaran (a) [saat respon sisem sedang meningkat]\n",
    "\n",
    "#### 4) Memperbesar luas pipa luaran (a) [saat respon sistem sedang menurun]\n",
    "\n",
    "Kemudian untuk a, yang merupakan variabel penentu banyaknya fluida yang keluar dari tangki menentukan apakah respon tersebut menurun atau meningkat. Di faktor 2, 3, dan 4 ini kita juga mengetahui bahwa error akan terjadi saat keadaan transien akibat hbar diasumsikan saat keadaan steady. Saat respon sistem meningkat, jika a semakin kecil, perubahan \n",
    "## $ \\frac{dh}{dt} - \\frac{\\bar{dh}}{dt} $ \n",
    "semakin besar sehingga error semakin besar pada saat transien. Berlaku sebaliknya saat respon sistem sedang menurun.\n",
    "\n",
    "#### 5) Vin meningkat (saat respon sedang meningkat)\n",
    "\n",
    "#### 6) Vin menurun (saat respon sedang menurun)\n",
    "Dari faktor 5 dan 6 dapat dilihat bahwa saat kita meningkatkan nilai Vin, kurva biru (linear) akan semakin memperlambat keadaan steady (kurva semakin ke kanan) yang berarti error dari linearisasi semakin besar. Hal ini berhubungan dengan asumsi hbar diambil saat keadaan steady.\n",
    "\n",
    "#### 7) Amplitudo sinusoidal yang meningkat\n",
    "Faktor 7 menjelaskan hubungan Vinbar dan Vin harus berbeda nilai sekecil mungkin dan harus sesuai dengan rentang kerja sistem."
   ]
  }
 ],
 "metadata": {
  "kernelspec": {
   "display_name": "Python 3",
   "language": "python",
   "name": "python3"
  },
  "language_info": {
   "codemirror_mode": {
    "name": "ipython",
    "version": 3
   },
   "file_extension": ".py",
   "mimetype": "text/x-python",
   "name": "python",
   "nbconvert_exporter": "python",
   "pygments_lexer": "ipython3",
   "version": "3.7.3"
  }
 },
 "nbformat": 4,
 "nbformat_minor": 2
}
