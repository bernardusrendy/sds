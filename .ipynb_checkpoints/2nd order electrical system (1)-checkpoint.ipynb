{
 "cells": [
  {
   "cell_type": "markdown",
   "metadata": {},
   "source": [
    "## Sistem Elektrik"
   ]
  },
  {
   "cell_type": "markdown",
   "metadata": {},
   "source": [
    "## Deskripsi Sistem\n",
    "\n",
    "Sistem yang digunakan adalah rangkaian RLC yang terdiri atas masing-masing satu komponen resistor, induktor, dan kapasitor yang dirangkai secara seri dengan satu sumber tegangan $V_i$ dan menghasilkan tegangan luaran $V_o$ di L."
   ]
  },
  {
   "cell_type": "markdown",
   "metadata": {},
   "source": [
    "## Pemodelan Sistem\n",
    "\n",
    "<img src=\"./electrical system.png\" style=\"width:50%\" align=\"middle\">\n"
   ]
  },
  {
   "cell_type": "markdown",
   "metadata": {},
   "source": [
    "## Persamaan Matematis\n",
    "\n",
    "$$ V_i = V_R + V_L + V_C $$\n",
    "$$ V_i = iR + L\\frac{di}{dt} + \\frac{1}{C}\\int i dt $$\n",
    "$$ V_o = V_L = L \\frac{di}{dt} $$\n",
    "\n",
    "$$ \\frac{di}{dt} = \\frac{1}{L} (V_i - iR - \\frac{1}{C}\\int i dt) $$\n",
    "$$ V_o = L\\frac{di}{dt} = V_i - iR - \\frac{1}{C}\\int i dt $$ \n",
    "$$ V_i = RC\\frac{dV_L}{dt} + LC\\frac{d^2V_L}{dt^2} + V_L $$\n",
    "\n",
    "Transfer Function\n",
    "$$ V_i = RCsV_L + LCs^2V_L + V_L $$\n",
    "\n",
    "$$ \\frac{V_i}{V_L} = RCs + LCs^2 + 1 $$\n",
    "\n",
    "$$ \\frac{V_L}{V_i} = \\frac{1}{RCs + LCs^2 + 1} $$\n"
   ]
  },
  {
   "cell_type": "code",
   "execution_count": 1,
   "metadata": {},
   "outputs": [],
   "source": [
    "from __future__ import print_function\n",
    "from ipywidgets import interact, interactive, fixed, interactive_output, Layout, interact_manual , HBox, VBox\n",
    "import ipywidgets as widgets\n",
    "from ipywidgets import Layout, Button, Box\n",
    "import matplotlib.pyplot as plt\n",
    "import numpy as np\n",
    "from scipy.integrate import odeint\n",
    "from scipy import signal"
   ]
  },
  {
   "cell_type": "code",
   "execution_count": 2,
   "metadata": {
    "scrolled": true
   },
   "outputs": [],
   "source": [
    "def plot_rlc(R,L,C,t):\n",
    "    t = np.linspace(0, t, 100*t)\n",
    "    R = R\n",
    "    L = L * 10**-3\n",
    "    C = C * 10**-6\n",
    "    tfVc=signal.TransferFunction([1],[L*C,R*C,1])\n",
    "    tStepVc,yStepVc=signal.step(tfVc, T = t)\n",
    "    plt.plot(tStepVc,yStepVc,color='red',label='Vc')\n",
    "    plt.title(\"Vc $(V)$\")\n",
    "    plt.xlabel(\"Time (s)\")\n",
    "    plt.grid(True)    "
   ]
  },
  {
   "cell_type": "code",
   "execution_count": 3,
   "metadata": {},
   "outputs": [],
   "source": [
    "#Slider R\n",
    "R_slider = widgets.FloatSlider(\n",
    "    value = 10,\n",
    "    min = 1,\n",
    "    max = 50.0,\n",
    "    step = 0.1,\n",
    "    description='$R (\\Omega)$',\n",
    ")\n",
    "#Slider L\n",
    "L_slider = widgets.FloatSlider(\n",
    "    value = 170,\n",
    "    min = 10,\n",
    "    max = 2000.0,\n",
    "    step = 10,\n",
    "    description='$L (mH)$',\n",
    ")\n",
    "#Slider C\n",
    "C_slider = widgets.FloatSlider(\n",
    "    value = 10,\n",
    "    min = 10,\n",
    "    max = 5000.0,\n",
    "    step = 1,\n",
    "    description='$C (\\\\mu F)$',\n",
    ")\n",
    "\n",
    "#Slider t\n",
    "t_slider = widgets.IntSlider(\n",
    "    value=1,\n",
    "    min = 1,\n",
    "    max = 100, \n",
    "    step = 1,\n",
    "    description='$Time (s)$:',\n",
    "    readout_format='.1f',\n",
    ")"
   ]
  },
  {
   "cell_type": "code",
   "execution_count": 4,
   "metadata": {},
   "outputs": [],
   "source": [
    "ui=widgets.VBox([R_slider,L_slider,C_slider,t_slider])\n",
    "out = widgets.interactive_output(plot_rlc,{'R':R_slider,'L':L_slider,'C':C_slider,'t':t_slider})"
   ]
  },
  {
   "cell_type": "code",
   "execution_count": 5,
   "metadata": {},
   "outputs": [
    {
     "data": {
      "application/vnd.jupyter.widget-view+json": {
       "model_id": "3986153664dd439da5a37ac7bf02ba27",
       "version_major": 2,
       "version_minor": 0
      },
      "text/plain": [
       "VBox(children=(FloatSlider(value=10.0, description='$R (\\\\Omega)$', max=50.0, min=1.0), FloatSlider(value=170.…"
      ]
     },
     "metadata": {},
     "output_type": "display_data"
    },
    {
     "data": {
      "application/vnd.jupyter.widget-view+json": {
       "model_id": "b4c17acc54ee4e14ad2ccab0686a942d",
       "version_major": 2,
       "version_minor": 0
      },
      "text/plain": [
       "Output()"
      ]
     },
     "metadata": {},
     "output_type": "display_data"
    }
   ],
   "source": [
    "display(ui, out)"
   ]
  },
  {
   "cell_type": "markdown",
   "metadata": {},
   "source": [
    "## Analisis\n",
    "\n"
   ]
  }
 ],
 "metadata": {
  "kernelspec": {
   "display_name": "Python 3",
   "language": "python",
   "name": "python3"
  },
  "language_info": {
   "codemirror_mode": {
    "name": "ipython",
    "version": 3
   },
   "file_extension": ".py",
   "mimetype": "text/x-python",
   "name": "python",
   "nbconvert_exporter": "python",
   "pygments_lexer": "ipython3",
   "version": "3.7.3"
  }
 },
 "nbformat": 4,
 "nbformat_minor": 2
}
