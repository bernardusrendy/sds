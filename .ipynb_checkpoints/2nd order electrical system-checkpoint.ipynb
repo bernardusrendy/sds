{
 "cells": [
  {
   "cell_type": "markdown",
   "metadata": {},
   "source": [
    "## Sistem Elektrik"
   ]
  },
  {
   "cell_type": "markdown",
   "metadata": {},
   "source": [
    "## Deskripsi Sistem\n",
    "\n",
    "Sistem yang digunakan adalah rangkaian RLC yang terdiri atas masing-masing satu komponen resistor, induktor, dan kapasitor yang dirangkai secara seri dengan satu sumber tegangan $V_i$ dan menghasilkan tegangan luaran $V_o$ di C."
   ]
  },
  {
   "cell_type": "markdown",
   "metadata": {},
   "source": [
    "## Pemodelan Sistem\n",
    "\n",
    "<img src=\"./electrical system.png\" style=\"width:50%\" align=\"middle\">\n"
   ]
  },
  {
   "cell_type": "markdown",
   "metadata": {},
   "source": [
    "## Persamaan Matematis\n",
    "\n",
    "$$ V_i = V_R + V_L + V_C $$\n",
    "$$ V_i = iR + L\\frac{di}{dt} + \\frac{1}{C}\\int i dt $$\n",
    "$$ V_o = V_L = L \\frac{di}{dt} $$\n",
    "\n",
    "$$ \\frac{di}{dt} = \\frac{1}{L} (V_i - iR - \\frac{1}{C}\\int i dt) $$\n",
    "$$ V_o = L\\frac{di}{dt} = V_i - iR - \\frac{1}{C}\\int i dt $$ \n",
    "$$ V_i = RC\\frac{dV_c}{dt} + LC\\frac{d^2V_c}{dt^2} + V_c $$\n",
    "\n",
    "Transfer Function\n",
    "$$ V_i = RCsV_c + LCs^2V_c + V_c $$\n",
    "\n",
    "$$ \\frac{V_i}{V_c} = RCs + LCs^2 + 1 $$\n",
    "\n",
    "$$ \\frac{V_c}{V_i} = \\frac{1}{RCs + LCs^2 + 1} $$\n"
   ]
  },
  {
   "cell_type": "code",
   "execution_count": 22,
   "metadata": {},
   "outputs": [],
   "source": [
    "from __future__ import print_function\n",
    "from ipywidgets import interact, interactive, fixed, interactive_output, Layout, interact_manual , HBox, VBox\n",
    "import ipywidgets as widgets\n",
    "from ipywidgets import Layout, Button, Box\n",
    "import matplotlib.pyplot as plt\n",
    "import numpy as np\n",
    "from scipy.integrate import odeint\n",
    "from scipy import signal"
   ]
  },
  {
   "cell_type": "code",
   "execution_count": 23,
   "metadata": {
    "scrolled": true
   },
   "outputs": [],
   "source": [
    "def plot_rlc(R,L,C,tMax):\n",
    "    t=np.linspace(0,tMax,100*tMax)\n",
    "    R=R*10**3\n",
    "    L=L*10**-3\n",
    "    C=C*10**-6\n",
    "    tfVc=signal.TransferFunction([1],[L*C,R*C,1])\n",
    "    tStepVc,yStepVc=signal.step(tfVc,T=t)\n",
    "    plt.plot(tStepVc,yStepVc,color='red',label='Vc')\n",
    "    plt.title(\"Vc $(V)$\")\n",
    "    plt.xlabel(\"Time (s)\")\n",
    "    plt.grid(True)"
   ]
  },
  {
   "cell_type": "code",
   "execution_count": 27,
   "metadata": {},
   "outputs": [],
   "source": [
    "#Slider R\n",
    "R_slider = widgets.FloatSlider(\n",
    "    value=0.1,\n",
    "    min=0.1,\n",
    "    max=500.0,\n",
    "    step=0.1,\n",
    "    description='$R (k \\Omega)$',\n",
    "    layout=Layout(width='80%', height='50px'),\n",
    "    style={'description_width': '200px'},\n",
    ")\n",
    "\n",
    "#Slider L\n",
    "L_slider = widgets.FloatSlider(\n",
    "    value=0.1,\n",
    "    min=0.1,\n",
    "    max=500.0,\n",
    "    step=0.1,\n",
    "    description='$L (mH)$',\n",
    "    layout=Layout(width='80%', height='50px'),\n",
    "    style={'description_width': '200px'},\n",
    ")\n",
    "\n",
    "#Slider C\n",
    "C_slider = widgets.FloatSlider(\n",
    "    value=0.1,\n",
    "    min=0.1,\n",
    "    max=500.0,\n",
    "    step=0.1,\n",
    "    description='$C (\\\\mu F)$',\n",
    "    layout=Layout(width='80%', height='50px'),\n",
    "    style={'description_width': '200px'},\n",
    ")\n",
    "\n",
    "\n",
    "#Slider t\n",
    "t_slider = widgets.IntSlider(\n",
    "    value=10.0,\n",
    "    min=0., max=+900., step=1.,\n",
    "    description='$Maximum Time (s)$:',\n",
    "    readout_format='.1f',\n",
    "    layout=Layout(width='80%', height='50px'),\n",
    "    style={'description_width': '200px'},\n",
    ")"
   ]
  },
  {
   "cell_type": "code",
   "execution_count": 28,
   "metadata": {},
   "outputs": [],
   "source": [
    "ui=widgets.VBox([R_slider,L_slider,C_slider,t_slider])\n",
    "out = widgets.interactive_output(plot_rlc,{'R':R_slider,'L':L_slider,'C':C_slider,'tMax':t_slider})"
   ]
  },
  {
   "cell_type": "code",
   "execution_count": 29,
   "metadata": {},
   "outputs": [
    {
     "data": {
      "application/vnd.jupyter.widget-view+json": {
       "model_id": "578985143aa140e5a6c5adc1b1cee9db",
       "version_major": 2,
       "version_minor": 0
      },
      "text/plain": [
       "VBox(children=(FloatSlider(value=0.1, description='$R (k \\\\Omega)$', layout=Layout(height='50px', width='80%')…"
      ]
     },
     "metadata": {},
     "output_type": "display_data"
    },
    {
     "data": {
      "application/vnd.jupyter.widget-view+json": {
       "model_id": "f703d059dda9488380e12491ec4ee024",
       "version_major": 2,
       "version_minor": 0
      },
      "text/plain": [
       "Output()"
      ]
     },
     "metadata": {},
     "output_type": "display_data"
    }
   ],
   "source": [
    "display(ui,out)"
   ]
  }
 ],
 "metadata": {
  "kernelspec": {
   "display_name": "Python 3",
   "language": "python",
   "name": "python3"
  },
  "language_info": {
   "codemirror_mode": {
    "name": "ipython",
    "version": 3
   },
   "file_extension": ".py",
   "mimetype": "text/x-python",
   "name": "python",
   "nbconvert_exporter": "python",
   "pygments_lexer": "ipython3",
   "version": "3.7.3"
  }
 },
 "nbformat": 4,
 "nbformat_minor": 2
}
