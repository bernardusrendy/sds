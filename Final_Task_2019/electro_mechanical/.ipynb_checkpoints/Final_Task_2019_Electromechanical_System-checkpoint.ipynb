{
 "cells": [
  {
   "cell_type": "markdown",
   "metadata": {},
   "source": [
    "# Sistem Elektromekanik\n",
    "## DC Brushed Motor Torsi Besar dengan Motor Driver\n",
    "\n",
    "Sistem yang akan dimodelkan berupa motor driver high current BTS7960 seperti gambar atas, dihubungkan dengan motor torsi besar dengan brush pada gambar bawah.\n",
    "<div>\n",
    "<img src=\"./1.jpg\" style=\"width:20%\" align=\"middle\">\n",
    "</div>\n",
    "<div>\n",
    "<img src=\"./2.jpg\" style=\"width:20%\" align=\"middle\">\n",
    "</div>\n",
    "<p style=\"text-align:center\"><b>Sumber gambar: KRTMI URO ITB</b></p>"
   ]
  },
  {
   "cell_type": "markdown",
   "metadata": {},
   "source": [
    "## Input dan Output\n",
    "Pada sistem, <b>input</b> adalah tegangan berupa sinyal $V_{in}$ \n",
    "<br>\n",
    "dengan <b>output</b> posisi sudut $\\theta$, kecepatan sudut motor $\\omega$, dan torsi $T$ karena akan digunakan untuk manuver robot. Terlihat variable output bergantung pada $\\theta$, $\\frac {d\\theta}{dt}$, dan $\\frac{d^2\\theta}{dt}$"
   ]
  },
  {
   "cell_type": "markdown",
   "metadata": {},
   "source": [
    "## Motor Driver\n",
    "Pertama ditinjau struktur sistem dari motor driver. Motor driver yang digunakan adalah tipe MOSFET BTS7960 sehingga memiliki karakteristik dinamik yang meningkat hampir dengan instant. MOSFET dirangkai sedemikian rupa sehingga dapat digunakan untuk kontrol maju/mundur motor. Diasumsikan rise-time MOSFET cukup cepat relatif terhadap sinyal dan motor driver cukup linear, maka motor driver dapat dimodelkan sebagai sistem orde 0 dengan gain sebesar $ K_{md} $. Input pada motor driver berupa sinyal dari mikrokontroller arduino sebesar 0-5V, keluaran maksimum dari motor driver adalah 24V $ V_s $, sehingga $ K_{md} = 4.8 $ \n",
    "<img src=\"./4.png\" style=\"width:30%\" align=\"middle\">\n",
    "<p style=\"text-align:center\"><b>Sumber gambar: Datasheet BTS7960</b></p>\n",
    "<img src=\"./5.png\" style=\"width:30%\" align=\"middle\">\n",
    "<p style=\"text-align:center\"><b>Model Orde 0 Motor Driver</b></p>"
   ]
  },
  {
   "cell_type": "markdown",
   "metadata": {},
   "source": [
    "Maka persamaan dinamik output terhadap input dalam motor driver adalah <br>\n",
    "$ V_m=K_{md}V_{in} $<br>\n",
    "$ V_m=4.8V_{in} $\n",
    "<br>\n",
    "Sama seperti hubungan input output pada karakteristik statik."
   ]
  },
  {
   "cell_type": "markdown",
   "metadata": {},
   "source": [
    "## Motor\n",
    "Lalu ditinjau struktur sistem dari motor torsi besar dengan inertia beban yang tidak dapat diabaikan.\n",
    "<img src=\"./3.png\" style=\"width:30%\" align=\"middle\">\n",
    "<p style=\"text-align:center\"><b>Sumber gambar: https://www.researchgate.net/figure/The-structure-of-a-DC-motor_fig2_260272509</b></p>"
   ]
  },
  {
   "cell_type": "markdown",
   "metadata": {},
   "source": [
    "Maka dapat diturunkan persamaan diferensial untuk sistem mekanik.\n",
    "<br>\n",
    "<img src=\"./6.png\" style=\"width:30%\">\n",
    "<img src=\"./7.png\" style=\"width:30%\">\n",
    "<p style=\"text-align:center\"><b>Sumber gambar: Chapman - Electric Machinery Fundamentals 4th Edition</b></p>\n",
    "<h2>$ T=K_a i_a $</h2> dengan $T$ adalah torsi dan $K_a$ adalah konstanta proporsionalitas torsi (hasil perkalian K dengan flux) untuk arus armature $i_a$\n",
    "<br>\n",
    "<h2>$ V_{emf}=K_{emf} \\omega$</h2>dengan $V_{emf}$ adalah tegangan penyebab electromotive force dan $K_{emf}$ konstanta proporsionalitas tegangan emf (hasil perkalian K dengan flux pada kondisi ideal tanpa voltage drop) untuk kecepatan putar sudut dari motor.\n",
    "<br>\n",
    "<br>\n",
    "Namun, akibat terbentuknya torsi adalah berputarnya beban dengan kecepatan sudut sebesar $\\omega$ dan percepatan sudut sebesar $\\alpha$. Faktor proporsionalitas terhadap percepatan sudut adalah $J$ (Inersia Putar) dan terhadap kecepatan sudut sebesar $ K_f $ (Konstanta Redam Putar) Sehingga dapat diturunkan persamaan diferensial sebagai berikut:\n",
    "<br>\n",
    "<h2>$ J\\alpha + K_f\\omega = T $</h2>\n",
    "<h2>$ J\\frac {d^2\\theta}{dt} + K_f\\frac {d\\theta}{dt} = K_a i_a $</h2>"
   ]
  },
  {
   "cell_type": "markdown",
   "metadata": {},
   "source": [
    "Kemudian diturunkan persamaan diferensial untuk sistem elektrik yang terdapat pada motor sehingga $i_a$ dapat disubstitusi dengan input $V_{in}$.\n",
    "<br>\n",
    "<h2>$ L \\frac{d{i_a}}{dt} + R i_a + K_a i_a = V_m $</h2>\n",
    "dimana $V_m = 4.8 V_{in}$ sehingga\n",
    "<h2>$ L \\frac{d{i_a}}{dt} + (R + K_a) i_a = 4.8 V_{in} $</h2>"
   ]
  },
  {
   "cell_type": "markdown",
   "metadata": {},
   "source": [
    "## Fungsi Transfer\n",
    "Dilakukan penyelesaian menggunakan fungsi transfer dalam domain laplace, pertama dilakukan transfer ke domain laplace dengan asumsi\n",
    "<br>\n",
    "$ i_a (0) = 0 $\n",
    "<br>\n",
    "$ \\frac {di_a}{dt} = 0 $\n",
    "<br>\n",
    "$ \\theta (0) = 0 $\n",
    "<br>\n",
    "$ \\omega (0) = 0 $\n",
    "<br>\n",
    "$ \\alpha (0) = 0 $"
   ]
  },
  {
   "cell_type": "markdown",
   "metadata": {},
   "source": [
    "Maka persamaan pertama:\n",
    "<br>\n",
    "<h2>$ \\omega = \\frac {K_a i_a}{(J s + K_f)} $</h2>\n",
    "<br>\n",
    "Maka persamaan kedua:\n",
    "<br>\n",
    "<h2>$  i_a = \\frac {4.8 V_{in}}{(L s + R + K_a)} $</h2>"
   ]
  },
  {
   "cell_type": "markdown",
   "metadata": {},
   "source": [
    "Sehingga persamaan gabungan untuk fungsi transfer sistem untuk output $ \\omega $ adalah:\n",
    "<br>\n",
    "<h2>$\\omega = \\frac {4.8 K_a  V_{in}}{(J s + K_f)(L s + R + K_a)}$</h2>"
   ]
  },
  {
   "cell_type": "markdown",
   "metadata": {},
   "source": [
    "dengan $ T = J \\alpha $ dan $ \\alpha = s \\omega$ maka\n",
    "<br>\n",
    "<h2>$ T = \\frac {4.8 J K_a  V_{in} s}{(J s + K_f)(L s + R + K_a)} $ </h2>"
   ]
  },
  {
   "cell_type": "markdown",
   "metadata": {},
   "source": [
    "Lalu untuk posisi $\\theta$ adalah\n",
    "<br>\n",
    "$ \\omega = \\frac {d\\theta}{dt} $\n",
    "<br>\n",
    "Maka $\\theta = \\frac {\\omega}{s}$\n",
    "<br>\n",
    "<h2>$\\theta = \\frac {4.8 K_a  V_{in}}{s(J s + K_f)(L s + R + K_a)}$</h2>"
   ]
  },
  {
   "cell_type": "code",
   "execution_count": null,
   "metadata": {},
   "outputs": [],
   "source": [
    "import numpy as np\n",
    "from scipy.integrate import odeint\n",
    "import scipy.signal as sig\n",
    "import matplotlib.pyplot as plt\n",
    "from sympy.physics.mechanics import dynamicsymbols, SymbolicSystem\n",
    "from sympy import *"
   ]
  },
  {
   "cell_type": "code",
   "execution_count": null,
   "metadata": {},
   "outputs": [],
   "source": [
    "omega = dynamicsymbols('omega theta')"
   ]
  },
  {
   "cell_type": "code",
   "execution_count": null,
   "metadata": {},
   "outputs": [],
   "source": [
    "syms = symbols ('K_f V_{in} J L R K_a s T')"
   ]
  },
  {
   "cell_type": "code",
   "execution_count": null,
   "metadata": {},
   "outputs": [],
   "source": [
    "kf,vin,j,l,r,ka,s,T = syms"
   ]
  },
  {
   "cell_type": "code",
   "execution_count": null,
   "metadata": {},
   "outputs": [],
   "source": [
    "omega = (4.8*ka*vin)/((j*s+kf)*(l*s+r+ka))"
   ]
  },
  {
   "cell_type": "code",
   "execution_count": null,
   "metadata": {},
   "outputs": [],
   "source": [
    "T = (4.8*ka*vin*j*s)/((j*s+kf)*(l*s+r+ka))"
   ]
  },
  {
   "cell_type": "code",
   "execution_count": null,
   "metadata": {},
   "outputs": [],
   "source": [
    "theta = (4.8*ka*vin)/(s*(j*s+kf)*(l*s+r+ka))"
   ]
  },
  {
   "cell_type": "code",
   "execution_count": null,
   "metadata": {},
   "outputs": [],
   "source": [
    "#Penjabaran menggunakan sympy\n",
    "polyOmega=omega.as_poly()\n",
    "polyOmega"
   ]
  },
  {
   "cell_type": "code",
   "execution_count": null,
   "metadata": {
    "scrolled": true
   },
   "outputs": [],
   "source": [
    "polyT=T.as_poly()\n",
    "polyT"
   ]
  },
  {
   "cell_type": "code",
   "execution_count": null,
   "metadata": {},
   "outputs": [],
   "source": [
    "polyTheta=theta.as_poly()\n",
    "polyTheta"
   ]
  },
  {
   "cell_type": "code",
   "execution_count": null,
   "metadata": {},
   "outputs": [],
   "source": [
    "tf = sig.TransferFunction"
   ]
  },
  {
   "cell_type": "code",
   "execution_count": null,
   "metadata": {},
   "outputs": [],
   "source": [
    "kf=100\n",
    "j=100\n",
    "l=10\n",
    "r=1\n",
    "ka=100"
   ]
  },
  {
   "cell_type": "code",
   "execution_count": null,
   "metadata": {
    "scrolled": true
   },
   "outputs": [],
   "source": [
    "tf_Omega_Vin = tf([4.8*ka],[j*l,(j*ka+j*r+kf*l),(ka*kf+kf*r)])\n",
    "tf_Omega_Vin"
   ]
  },
  {
   "cell_type": "code",
   "execution_count": null,
   "metadata": {},
   "outputs": [],
   "source": [
    "tf_T_Vin = tf([4.8*j*ka],[j*l,(j*ka+j*r+kf*l),(ka*kf+kf*r)])\n",
    "tf_T_Vin"
   ]
  },
  {
   "cell_type": "code",
   "execution_count": null,
   "metadata": {},
   "outputs": [],
   "source": [
    "tf_Theta_Vin = tf([4.8*ka],[j*l,(j*ka+j*r+kf*l),(kf*r+ka*kf),0])\n",
    "tf_Theta_Vin"
   ]
  },
  {
   "cell_type": "code",
   "execution_count": null,
   "metadata": {},
   "outputs": [],
   "source": [
    "resultx,resulty=sig.step(tf_Omega_Vin)"
   ]
  },
  {
   "cell_type": "code",
   "execution_count": null,
   "metadata": {
    "scrolled": true
   },
   "outputs": [],
   "source": [
    "plt.plot(resultx,resulty)"
   ]
  },
  {
   "cell_type": "code",
   "execution_count": null,
   "metadata": {},
   "outputs": [],
   "source": [
    "resultx,resulty=sig.step(tf_Theta_Vin)"
   ]
  },
  {
   "cell_type": "code",
   "execution_count": null,
   "metadata": {},
   "outputs": [],
   "source": [
    "plt.plot(resultx,resulty)"
   ]
  },
  {
   "cell_type": "code",
   "execution_count": null,
   "metadata": {},
   "outputs": [],
   "source": [
    "resultx,resulty=sig.step(tf_T_Vin)"
   ]
  },
  {
   "cell_type": "raw",
   "metadata": {},
   "source": [
    "plt.pl"
   ]
  }
 ],
 "metadata": {
  "kernelspec": {
   "display_name": "Python 3",
   "language": "python",
   "name": "python3"
  },
  "language_info": {
   "codemirror_mode": {
    "name": "ipython",
    "version": 3
   },
   "file_extension": ".py",
   "mimetype": "text/x-python",
   "name": "python",
   "nbconvert_exporter": "python",
   "pygments_lexer": "ipython3",
   "version": "3.7.3"
  }
 },
 "nbformat": 4,
 "nbformat_minor": 2
}
