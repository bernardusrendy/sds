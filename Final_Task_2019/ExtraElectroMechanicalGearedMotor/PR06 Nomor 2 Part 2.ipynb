{
 "cells": [
  {
   "cell_type": "markdown",
   "metadata": {},
   "source": [
    "<h1 align=\"center\"> PR#06 Dinamika Sistem dan Simulasi Nomor 2 Part II</h1>"
   ]
  },
  {
   "cell_type": "markdown",
   "metadata": {},
   "source": [
    "<h3>Nama Anggota:</h3>\n",
    "<body>\n",
    "    <ul>\n",
    "        <li>M. Iqbal Anggoro A. (13317007)</li>\n",
    "        <li>Devina Caroline T. (13317039)</li>\n",
    "        <li>Bernardus Rendy (13317041)</li>\n",
    "    </ul>\n",
    "    Pengerjaan utama dilakukan oleh Bernardus Rendy\n",
    "</body>"
   ]
  },
  {
   "cell_type": "code",
   "execution_count": 60,
   "metadata": {},
   "outputs": [],
   "source": [
    "import numpy as np\n",
    "import matplotlib.pyplot as plt\n",
    "import scipy.signal as signal\n",
    "from ipywidgets import interact, interactive, fixed, interact_manual , HBox, VBox, Label, Layout\n",
    "import ipywidgets as widgets"
   ]
  },
  {
   "cell_type": "markdown",
   "metadata": {},
   "source": [
    "### Deskripsi Sistem\n",
    "<img src=\"./1.jpg\" style=\"width:30%\">\n",
    "<img src=\"./3.jpg\" style=\"width:50%\">\n",
    "\n",
    "#### 1. Input\n",
    "effort $e_v$, asumsi input merupakan sinyal step\n",
    "\n",
    "#### 2. Output\n",
    "$\\omega_a$ dan $\\omega_b$\n",
    "\n",
    "#### 3. Parameter\n",
    "$R_a,L_a,K_g,K_1,K_m,N_1,N_2,J_2,c,b_r$"
   ]
  },
  {
   "cell_type": "code",
   "execution_count": 61,
   "metadata": {},
   "outputs": [],
   "source": [
    "#DEFINISI WIDGETS PARAMETER\n",
    "Ra_slider = widgets.FloatSlider(\n",
    "    value=19.90,\n",
    "    min=0.1,\n",
    "    max=20.0,\n",
    "    step=0.1,\n",
    "    description='$R_a (\\\\Omega)$',\n",
    "    layout=Layout(width='80%', height='50px'),\n",
    "    style={'description_width': '200px'},\n",
    ")\n",
    "La_slider = widgets.FloatSlider(\n",
    "    value=19.90,\n",
    "    min=0.1,\n",
    "    max=20.0,\n",
    "    step=0.1,\n",
    "    description='$L_a (H)$',\n",
    "    layout=Layout(width='80%', height='50px'),\n",
    "    style={'description_width': '200px'},\n",
    ")\n",
    "Kg_slider = widgets.FloatSlider(\n",
    "    value=19.90,\n",
    "    min=0.1,\n",
    "    max=20.0,\n",
    "    step=0.1,\n",
    "    description='$K_g (\\\\frac {V}{rad.s^-1})$',\n",
    "    layout=Layout(width='80%', height='50px'),\n",
    "    style={'description_width': '200px'},\n",
    ")\n",
    "K1_slider = widgets.FloatSlider(\n",
    "    value=19.90,\n",
    "    min=0.1,\n",
    "    max=20.0,\n",
    "    step=0.1,\n",
    "    description='$K_1 (\\\\frac {V}{V})$',\n",
    "    layout=Layout(width='80%', height='50px'),\n",
    "    style={'description_width': '200px'},\n",
    ")\n",
    "Km_slider = widgets.FloatSlider(\n",
    "    value=19.90,\n",
    "    min=0.1,\n",
    "    max=20.0,\n",
    "    step=0.1,\n",
    "    description='$K_m (\\\\frac {N.m}{A})$',\n",
    "    layout=Layout(width='80%', height='50px'),\n",
    "    style={'description_width': '200px'},\n",
    ")\n",
    "N1_slider = widgets.FloatSlider(\n",
    "    value=19.90,\n",
    "    min=0.1,\n",
    "    max=20.0,\n",
    "    step=0.1,\n",
    "    description='$N1 Gear Ratio$',\n",
    "    layout=Layout(width='80%', height='50px'),\n",
    "    style={'description_width': '200px'},\n",
    ")\n",
    "N2_slider = widgets.FloatSlider(\n",
    "    value=19.90,\n",
    "    min=0.1,\n",
    "    max=20.0,\n",
    "    step=0.1,\n",
    "    description='$N2 Gear Ratio$',\n",
    "    layout=Layout(width='80%', height='50px'),\n",
    "    style={'description_width': '200px'},\n",
    ")\n",
    "J2_slider = widgets.FloatSlider(\n",
    "    value=19.90,\n",
    "    min=0.1,\n",
    "    max=20.0,\n",
    "    step=0.1,\n",
    "    description='$J_2 (\\\\frac {Nm}{rad.s^-2})$',\n",
    "    layout=Layout(width='80%', height='50px'),\n",
    "    style={'description_width': '200px'},\n",
    ")\n",
    "c_slider = widgets.FloatSlider(\n",
    "    value=19.90,\n",
    "    min=0.1,\n",
    "    max=20.0,\n",
    "    step=0.1,\n",
    "    description='$c (\\\\frac {Nm}{rad.s^-1})$',\n",
    "    layout=Layout(width='80%', height='50px'),\n",
    "    style={'description_width': '200px'},\n",
    ")\n",
    "br_slider = widgets.FloatSlider(\n",
    "    value=19.90,\n",
    "    min=0.1,\n",
    "    max=20.0,\n",
    "    step=0.1,\n",
    "    description='$b_r (\\\\frac {Nm}{rad.s^-1})$',\n",
    "    layout=Layout(width='80%', height='50px'),\n",
    "    style={'description_width': '200px'},\n",
    ")\n",
    "grid_button = widgets.ToggleButton(\n",
    "    value=True,\n",
    "    description='Grid',\n",
    "    icon='check',\n",
    "    layout=Layout(width='20%', height='50px',margin='10px 10px 10px 350px'),\n",
    "    style={'description_width': '200px'},\n",
    ")"
   ]
  },
  {
   "cell_type": "code",
   "execution_count": 75,
   "metadata": {},
   "outputs": [],
   "source": [
    "def plot_w1w2(Ra,La,Kg,K1,Km,N1,N2,J2,c,br,grid):\n",
    "    # Pembuatan model transfer function\n",
    "    A= [[(-Ra/La),(-Kg/La)],[Km/((N2/N1)**2 * J2),(-c+br)]]\n",
    "    B= [[(K1/La)],[0]]\n",
    "    C= [[0,1],[0,(N2/N1)]]\n",
    "    D= [[0],[0]]\n",
    "    sys1=signal.StateSpace(A,B,C,D)\n",
    "    t1,y1=signal.step(sys1)\n",
    "    plt.title(\"Plot $\\\\omega_1$ dan $\\\\omega_2$\")\n",
    "    plt.plot(t1,y1)\n",
    "    plt.grid(grid)\n",
    "ui_em = widgets.VBox([Ra_slider,La_slider,Kg_slider,K1_slider,Km_slider,N1_slider,N2_slider,J2_slider,c_slider,br_slider,grid_button])\n",
    "out_em = widgets.interactive_output(plot_w1w2, {'Ra':Ra_slider,'La':La_slider,'Kg':Kg_slider,'K1':K1_slider,'Km':Km_slider,'N1':N1_slider,'N2':N2_slider,'J2':J2_slider,'c':c_slider,'br':br_slider, 'grid':grid_button})"
   ]
  },
  {
   "cell_type": "code",
   "execution_count": 76,
   "metadata": {
    "scrolled": false
   },
   "outputs": [
    {
     "data": {
      "application/vnd.jupyter.widget-view+json": {
       "model_id": "5fa54f76ee524479925633fe5103d33d",
       "version_major": 2,
       "version_minor": 0
      },
      "text/plain": [
       "VBox(children=(FloatSlider(value=19.9, description='$R_a (\\\\Omega)$', layout=Layout(height='50px', width='80%'…"
      ]
     },
     "metadata": {},
     "output_type": "display_data"
    },
    {
     "data": {
      "application/vnd.jupyter.widget-view+json": {
       "model_id": "28a839fe9d114b41b1e2b9245ab7645c",
       "version_major": 2,
       "version_minor": 0
      },
      "text/plain": [
       "Output(outputs=({'output_type': 'display_data', 'data': {'text/plain': '<Figure size 432x288 with 1 Axes>', 'i…"
      ]
     },
     "metadata": {},
     "output_type": "display_data"
    }
   ],
   "source": [
    "display(ui_em,out_em)"
   ]
  },
  {
   "cell_type": "code",
   "execution_count": null,
   "metadata": {},
   "outputs": [],
   "source": []
  }
 ],
 "metadata": {
  "kernelspec": {
   "display_name": "Python 3",
   "language": "python",
   "name": "python3"
  },
  "language_info": {
   "codemirror_mode": {
    "name": "ipython",
    "version": 3
   },
   "file_extension": ".py",
   "mimetype": "text/x-python",
   "name": "python",
   "nbconvert_exporter": "python",
   "pygments_lexer": "ipython3",
   "version": "3.7.3"
  }
 },
 "nbformat": 4,
 "nbformat_minor": 2
}
